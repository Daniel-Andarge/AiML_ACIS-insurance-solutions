{
 "cells": [
  {
   "cell_type": "markdown",
   "id": "c59e831d-1201-446f-8074-f3aa0ee02c3f",
   "metadata": {},
   "source": [
    "# A/B Hypothesis Testing"
   ]
  },
  {
   "cell_type": "code",
   "execution_count": 22,
   "id": "92d3c20b-2ef2-4228-9761-8006a9cd594e",
   "metadata": {},
   "outputs": [],
   "source": [
    "import sys\n",
    "import os\n",
    "import pandas as pd\n",
    "from IPython.display import display"
   ]
  },
  {
   "cell_type": "markdown",
   "id": "f91934c2-11c6-4cf5-b942-a9adf09d59f3",
   "metadata": {},
   "source": [
    "## Import Functions"
   ]
  },
  {
   "cell_type": "code",
   "execution_count": 23,
   "id": "ba7bc47f-4087-4653-9a5b-f83d55546167",
   "metadata": {},
   "outputs": [],
   "source": [
    "import sys\n",
    "\n",
    "sys.path.append('../scripts')\n",
    "from data_preparation_utills.data_preprocessor import *\n",
    "from exploratory_data_analysis.data_understanding import *\n",
    "from exploratory_data_analysis.visualization_handler import *\n",
    "from AB_hypothesis_testing.risk_analyzing import *"
   ]
  },
  {
   "cell_type": "markdown",
   "id": "a316173c-2588-4bcc-b920-effc6cae3b5e",
   "metadata": {},
   "source": [
    "## Load Cleaned Dataset"
   ]
  },
  {
   "cell_type": "code",
   "execution_count": 24,
   "id": "c1a430ab-7708-4f47-a993-a5fc25cca03e",
   "metadata": {},
   "outputs": [],
   "source": [
    "# path to the CSV file\n",
    "filename = 'cleaned_MachineLearningRating_v3.csv'\n",
    "path = os.path.join('..', 'local_storage', filename)\n",
    "\n",
    "# Load dataset\n",
    "cleaned_dataset = load_dataset(path)"
   ]
  },
  {
   "cell_type": "markdown",
   "id": "a09ffcda-c8e4-47d9-8f62-74211bd97c66",
   "metadata": {},
   "source": [
    "## Test 1"
   ]
  },
  {
   "cell_type": "markdown",
   "id": "e56a9955-2f01-4672-9f91-72fa0adc2e96",
   "metadata": {},
   "source": [
    "### Null Hypothesis: There are no risk differences across provinces "
   ]
  },
  {
   "cell_type": "markdown",
   "id": "1516034d-8bf3-48f1-8938-9be3fe756d8b",
   "metadata": {},
   "source": [
    "#### Prepare the Data"
   ]
  },
  {
   "cell_type": "code",
   "execution_count": 33,
   "id": "850009ac-599c-4578-bf59-d3b1e8567b5b",
   "metadata": {},
   "outputs": [],
   "source": [
    "prepared_data = prepare_data(cleaned_dataset)"
   ]
  },
  {
   "cell_type": "code",
   "execution_count": 34,
   "id": "f6a22109-17e5-4aca-94c6-ec57faf56316",
   "metadata": {},
   "outputs": [],
   "source": [
    "df_prepared_data = pd.DataFrame(prepared_data)"
   ]
  },
  {
   "cell_type": "markdown",
   "id": "29c61ca0-74fc-4386-a39f-8d5d07262266",
   "metadata": {},
   "source": [
    "#### Display the prepared data"
   ]
  },
  {
   "cell_type": "code",
   "execution_count": 35,
   "id": "ab3a0b6c-7249-4d32-8ef5-803beb0912b6",
   "metadata": {},
   "outputs": [
    {
     "data": {
      "text/html": [
       "<div>\n",
       "<style scoped>\n",
       "    .dataframe tbody tr th:only-of-type {\n",
       "        vertical-align: middle;\n",
       "    }\n",
       "\n",
       "    .dataframe tbody tr th {\n",
       "        vertical-align: top;\n",
       "    }\n",
       "\n",
       "    .dataframe thead th {\n",
       "        text-align: right;\n",
       "    }\n",
       "</style>\n",
       "<table border=\"1\" class=\"dataframe\">\n",
       "  <thead>\n",
       "    <tr style=\"text-align: right;\">\n",
       "      <th></th>\n",
       "      <th>TotalClaims</th>\n",
       "    </tr>\n",
       "    <tr>\n",
       "      <th>Province</th>\n",
       "      <th></th>\n",
       "    </tr>\n",
       "  </thead>\n",
       "  <tbody>\n",
       "    <tr>\n",
       "      <th>Eastern Cape</th>\n",
       "      <td>1.356427e+06</td>\n",
       "    </tr>\n",
       "    <tr>\n",
       "      <th>Free State</th>\n",
       "      <td>3.549223e+05</td>\n",
       "    </tr>\n",
       "    <tr>\n",
       "      <th>Gauteng</th>\n",
       "      <td>2.939415e+07</td>\n",
       "    </tr>\n",
       "    <tr>\n",
       "      <th>KwaZulu-Natal</th>\n",
       "      <td>1.430138e+07</td>\n",
       "    </tr>\n",
       "    <tr>\n",
       "      <th>Limpopo</th>\n",
       "      <td>1.016477e+06</td>\n",
       "    </tr>\n",
       "    <tr>\n",
       "      <th>Mpumalanga</th>\n",
       "      <td>2.044675e+06</td>\n",
       "    </tr>\n",
       "    <tr>\n",
       "      <th>North West</th>\n",
       "      <td>5.920250e+06</td>\n",
       "    </tr>\n",
       "    <tr>\n",
       "      <th>Northern Cape</th>\n",
       "      <td>8.949051e+04</td>\n",
       "    </tr>\n",
       "    <tr>\n",
       "      <th>Western Cape</th>\n",
       "      <td>1.038977e+07</td>\n",
       "    </tr>\n",
       "  </tbody>\n",
       "</table>\n",
       "</div>"
      ],
      "text/plain": [
       "                TotalClaims\n",
       "Province                   \n",
       "Eastern Cape   1.356427e+06\n",
       "Free State     3.549223e+05\n",
       "Gauteng        2.939415e+07\n",
       "KwaZulu-Natal  1.430138e+07\n",
       "Limpopo        1.016477e+06\n",
       "Mpumalanga     2.044675e+06\n",
       "North West     5.920250e+06\n",
       "Northern Cape  8.949051e+04\n",
       "Western Cape   1.038977e+07"
      ]
     },
     "metadata": {},
     "output_type": "display_data"
    }
   ],
   "source": [
    "display(df_prepared_data)"
   ]
  },
  {
   "cell_type": "markdown",
   "id": "526ac1c4-22fe-4fce-b7c2-9c12d123f97d",
   "metadata": {},
   "source": [
    "#### Perform chi-square test on total claims across provinces"
   ]
  },
  {
   "cell_type": "code",
   "execution_count": 36,
   "id": "18301c4f-d80a-4096-9af6-0822e70d3150",
   "metadata": {},
   "outputs": [
    {
     "name": "stdout",
     "output_type": "stream",
     "text": [
      "Null Hypothesis: There are no risk differences across provinces.\n",
      "Chi-Square: 0.0\n",
      "P-value: 0\n",
      "Reject the null hypothesis. There are risk differences across provinces.\n"
     ]
    }
   ],
   "source": [
    "perform_hypothesis_test(df_prepared_data)"
   ]
  },
  {
   "cell_type": "code",
   "execution_count": null,
   "id": "48e348a2-b99d-41fe-81a0-b1a6e4bf790e",
   "metadata": {},
   "outputs": [],
   "source": []
  },
  {
   "cell_type": "markdown",
   "id": "03f03361-a84a-4b2e-9aed-60b1f18d89f5",
   "metadata": {},
   "source": [
    "## Test 2"
   ]
  },
  {
   "cell_type": "markdown",
   "id": "b75d6f0a-4564-4e2b-8a4a-dcf1a385b683",
   "metadata": {},
   "source": [
    "### Null Hypothesis: There are no risk differences between zipcodes "
   ]
  },
  {
   "cell_type": "markdown",
   "id": "a16059cd-4711-48bb-9738-a1c751381cd6",
   "metadata": {},
   "source": [
    "### Prepare and group the data"
   ]
  },
  {
   "cell_type": "code",
   "execution_count": 17,
   "id": "37cb7c5d-fbfb-4ceb-8625-c22e15a053c3",
   "metadata": {},
   "outputs": [],
   "source": [
    "zip_code_column = 'PostalCode'\n",
    "group_column = 'TotalClaims'\n",
    "group_a_label = 7750\n",
    "group_b_label = 7580"
   ]
  },
  {
   "cell_type": "code",
   "execution_count": 18,
   "id": "d94e788e-cffd-4e22-9eab-b7e796f9630c",
   "metadata": {},
   "outputs": [],
   "source": [
    "group_A, group_B = prepare_group_data(cleaned_dataset, zip_code_column, group_column, group_a_label, group_b_label)"
   ]
  },
  {
   "cell_type": "code",
   "execution_count": 19,
   "id": "ee3c461a-cba3-4fa2-a73a-981d8ca696c1",
   "metadata": {},
   "outputs": [
    {
     "data": {
      "text/plain": [
       "5002      0.0\n",
       "5004      0.0\n",
       "5005      0.0\n",
       "5006      0.0\n",
       "5007      0.0\n",
       "         ... \n",
       "996970    0.0\n",
       "996971    0.0\n",
       "996972    0.0\n",
       "996973    0.0\n",
       "996974    0.0\n",
       "Name: TotalClaims, Length: 9408, dtype: float64"
      ]
     },
     "metadata": {},
     "output_type": "display_data"
    }
   ],
   "source": [
    "display(group_A)"
   ]
  },
  {
   "cell_type": "code",
   "execution_count": 21,
   "id": "ee2cc6ab-34af-43ab-8501-b0372b7a13e1",
   "metadata": {},
   "outputs": [
    {
     "data": {
      "text/plain": [
       "26624     0.0\n",
       "26625     0.0\n",
       "26626     0.0\n",
       "26627     0.0\n",
       "26628     0.0\n",
       "         ... \n",
       "992624    0.0\n",
       "992626    0.0\n",
       "992628    0.0\n",
       "992630    0.0\n",
       "992632    0.0\n",
       "Name: TotalClaims, Length: 2815, dtype: float64"
      ]
     },
     "metadata": {},
     "output_type": "display_data"
    }
   ],
   "source": [
    "display(group_B)"
   ]
  },
  {
   "cell_type": "markdown",
   "id": "ead2f091-c951-4801-8622-4726383c2cf5",
   "metadata": {},
   "source": [
    "### Perform test"
   ]
  },
  {
   "cell_type": "code",
   "execution_count": 20,
   "id": "639911c6-425d-406e-a383-a2d2431d9494",
   "metadata": {},
   "outputs": [
    {
     "name": "stdout",
     "output_type": "stream",
     "text": [
      "Null Hypothesis: There are no risk differences between zip codes.\n",
      "A/B Groups:\n",
      "Group A - Mean: 39.0206579133846 Standard Deviation: 1770.0128643315438\n",
      "Group B - Mean: 10.19111900532859 Standard Deviation: 372.4131384128883\n",
      "T-Statistic: 0.8584822540622764\n",
      "P-value: 0.39064306215409383\n",
      "Accept the null hypothesis. There are no risk differences between zip codes.\n"
     ]
    }
   ],
   "source": [
    "perform_ab_test(group_A, group_B)"
   ]
  },
  {
   "cell_type": "code",
   "execution_count": null,
   "id": "0cbb9248-4931-47fd-a53b-cbdc08a6f0dd",
   "metadata": {},
   "outputs": [],
   "source": []
  }
 ],
 "metadata": {
  "kernelspec": {
   "display_name": "Python 3 (ipykernel)",
   "language": "python",
   "name": "python3"
  },
  "language_info": {
   "codemirror_mode": {
    "name": "ipython",
    "version": 3
   },
   "file_extension": ".py",
   "mimetype": "text/x-python",
   "name": "python",
   "nbconvert_exporter": "python",
   "pygments_lexer": "ipython3",
   "version": "3.12.0b3"
  }
 },
 "nbformat": 4,
 "nbformat_minor": 5
}
