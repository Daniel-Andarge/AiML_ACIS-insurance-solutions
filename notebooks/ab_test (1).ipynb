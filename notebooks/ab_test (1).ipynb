{
 "cells": [
  {
   "cell_type": "code",
   "execution_count": 4,
   "metadata": {},
   "outputs": [],
   "source": [
    "import pandas as pd\n",
    "import matplotlib.pyplot as plt\n",
    "from scipy.stats import chi2_contingency"
   ]
  },
  {
   "cell_type": "code",
   "execution_count": 5,
   "metadata": {},
   "outputs": [
    {
     "data": {
      "text/html": [
       "<div>\n",
       "<style scoped>\n",
       "    .dataframe tbody tr th:only-of-type {\n",
       "        vertical-align: middle;\n",
       "    }\n",
       "\n",
       "    .dataframe tbody tr th {\n",
       "        vertical-align: top;\n",
       "    }\n",
       "\n",
       "    .dataframe thead th {\n",
       "        text-align: right;\n",
       "    }\n",
       "</style>\n",
       "<table border=\"1\" class=\"dataframe\">\n",
       "  <thead>\n",
       "    <tr style=\"text-align: right;\">\n",
       "      <th></th>\n",
       "      <th>customer_id</th>\n",
       "      <th>Recommendation_name</th>\n",
       "      <th>Recommendation_date</th>\n",
       "      <th>suggestion_type</th>\n",
       "      <th>purchase_flag</th>\n",
       "    </tr>\n",
       "  </thead>\n",
       "  <tbody>\n",
       "    <tr>\n",
       "      <th>0</th>\n",
       "      <td>1.0</td>\n",
       "      <td>Recommend_screenguard</td>\n",
       "      <td>2021-07-02</td>\n",
       "      <td>With phone</td>\n",
       "      <td>0.0</td>\n",
       "    </tr>\n",
       "    <tr>\n",
       "      <th>1</th>\n",
       "      <td>2.0</td>\n",
       "      <td>Recommend_screenguard</td>\n",
       "      <td>2021-07-03</td>\n",
       "      <td>With phone</td>\n",
       "      <td>0.0</td>\n",
       "    </tr>\n",
       "    <tr>\n",
       "      <th>2</th>\n",
       "      <td>3.0</td>\n",
       "      <td>Recommend_screenguard</td>\n",
       "      <td>2021-07-04</td>\n",
       "      <td>With cover</td>\n",
       "      <td>1.0</td>\n",
       "    </tr>\n",
       "    <tr>\n",
       "      <th>3</th>\n",
       "      <td>4.0</td>\n",
       "      <td>Recommend_screenguard</td>\n",
       "      <td>2021-07-05</td>\n",
       "      <td>With phone</td>\n",
       "      <td>0.0</td>\n",
       "    </tr>\n",
       "    <tr>\n",
       "      <th>4</th>\n",
       "      <td>5.0</td>\n",
       "      <td>Recommend_screenguard</td>\n",
       "      <td>2021-07-06</td>\n",
       "      <td>With cover</td>\n",
       "      <td>1.0</td>\n",
       "    </tr>\n",
       "  </tbody>\n",
       "</table>\n",
       "</div>"
      ],
      "text/plain": [
       "   customer_id    Recommendation_name Recommendation_date suggestion_type  \\\n",
       "0          1.0  Recommend_screenguard          2021-07-02      With phone   \n",
       "1          2.0  Recommend_screenguard          2021-07-03      With phone   \n",
       "2          3.0  Recommend_screenguard          2021-07-04      With cover   \n",
       "3          4.0  Recommend_screenguard          2021-07-05      With phone   \n",
       "4          5.0  Recommend_screenguard          2021-07-06      With cover   \n",
       "\n",
       "   purchase_flag  \n",
       "0            0.0  \n",
       "1            0.0  \n",
       "2            1.0  \n",
       "3            0.0  \n",
       "4            1.0  "
      ]
     },
     "execution_count": 5,
     "metadata": {},
     "output_type": "execute_result"
    }
   ],
   "source": [
    "recom_data = pd.read_excel(\"Recommendation_data.xlsx\")\n",
    "recom_data.head()"
   ]
  },
  {
   "cell_type": "code",
   "execution_count": 6,
   "metadata": {},
   "outputs": [
    {
     "name": "stdout",
     "output_type": "stream",
     "text": [
      "<class 'pandas.core.frame.DataFrame'>\n",
      "RangeIndex: 868 entries, 0 to 867\n",
      "Data columns (total 5 columns):\n",
      " #   Column               Non-Null Count  Dtype         \n",
      "---  ------               --------------  -----         \n",
      " 0   customer_id          711 non-null    float64       \n",
      " 1   Recommendation_name  711 non-null    object        \n",
      " 2   Recommendation_date  711 non-null    datetime64[ns]\n",
      " 3   suggestion_type      711 non-null    object        \n",
      " 4   purchase_flag        711 non-null    float64       \n",
      "dtypes: datetime64[ns](1), float64(2), object(2)\n",
      "memory usage: 34.0+ KB\n"
     ]
    }
   ],
   "source": [
    "recom_data.info()"
   ]
  },
  {
   "cell_type": "code",
   "execution_count": 7,
   "metadata": {},
   "outputs": [],
   "source": [
    "recom_data.dropna(inplace=True)"
   ]
  },
  {
   "cell_type": "code",
   "execution_count": 8,
   "metadata": {},
   "outputs": [
    {
     "data": {
      "text/plain": [
       "suggestion_type  purchase_flag\n",
       "With cover       0.0              206\n",
       "                 1.0              130\n",
       "With phone       0.0              258\n",
       "                 1.0              117\n",
       "Name: count, dtype: int64"
      ]
     },
     "execution_count": 8,
     "metadata": {},
     "output_type": "execute_result"
    }
   ],
   "source": [
    "recom_data.groupby(\"suggestion_type\")[\"purchase_flag\"].value_counts()"
   ]
  },
  {
   "cell_type": "code",
   "execution_count": 9,
   "metadata": {},
   "outputs": [
    {
     "data": {
      "text/plain": [
       "array([[206, 130],\n",
       "       [258, 117]])"
      ]
     },
     "execution_count": 9,
     "metadata": {},
     "output_type": "execute_result"
    }
   ],
   "source": [
    "CT_values = pd.crosstab(recom_data['suggestion_type'],recom_data['purchase_flag']).values\n",
    "CT_values"
   ]
  },
  {
   "cell_type": "code",
   "execution_count": 10,
   "metadata": {},
   "outputs": [
    {
     "name": "stdout",
     "output_type": "stream",
     "text": [
      "0.312 0.3869047619047619\n"
     ]
    }
   ],
   "source": [
    "#Purchase rate\n",
    "with_phone_rate = 117/(117+258)\n",
    "with_cover_rate = 130/(130+206)\n",
    "print(with_phone_rate,with_cover_rate )"
   ]
  },
  {
   "cell_type": "code",
   "execution_count": 11,
   "metadata": {},
   "outputs": [],
   "source": [
    "H0 = \"There is no relationship between purchase rate and recommendation type. They are independent\"\n",
    "H1 = \"There is a relationship between purchase rate and recommendation type. They are not independent\""
   ]
  },
  {
   "cell_type": "code",
   "execution_count": 12,
   "metadata": {},
   "outputs": [],
   "source": [
    "chi2_statistic, p_value, dof, expected_value = chi2_contingency(CT_values,correction=False)"
   ]
  },
  {
   "cell_type": "code",
   "execution_count": 15,
   "metadata": {},
   "outputs": [
    {
     "name": "stdout",
     "output_type": "stream",
     "text": [
      "4.385751976925068 0.03624050241176425\n"
     ]
    }
   ],
   "source": [
    "print(chi2_statistic, p_value)"
   ]
  },
  {
   "cell_type": "code",
   "execution_count": 13,
   "metadata": {},
   "outputs": [
    {
     "name": "stdout",
     "output_type": "stream",
     "text": [
      "Significance=0.050, p = 0.036\n",
      "Dependent, we reject the null hypothesis\n",
      "There is a relationship between purchase rate and recommendation type. They are not independent\n"
     ]
    }
   ],
   "source": [
    "pro=0.95\n",
    "alpha = 1- pro\n",
    "print('Significance=%0.3f, p = %0.3f' % (alpha, p_value))\n",
    "if p_value <= alpha:\n",
    "    print('Dependent, we reject the null hypothesis')\n",
    "    print(H1)\n",
    "    \n",
    "else:\n",
    "    print('Independent, we fail to reject the null hypothesis')\n",
    "    print(H0)\n",
    "    "
   ]
  },
  {
   "cell_type": "code",
   "execution_count": null,
   "metadata": {},
   "outputs": [],
   "source": []
  }
 ],
 "metadata": {
  "kernelspec": {
   "display_name": "Python 3",
   "language": "python",
   "name": "python3"
  },
  "language_info": {
   "codemirror_mode": {
    "name": "ipython",
    "version": 3
   },
   "file_extension": ".py",
   "mimetype": "text/x-python",
   "name": "python",
   "nbconvert_exporter": "python",
   "pygments_lexer": "ipython3",
   "version": "3.10.12"
  }
 },
 "nbformat": 4,
 "nbformat_minor": 2
}
